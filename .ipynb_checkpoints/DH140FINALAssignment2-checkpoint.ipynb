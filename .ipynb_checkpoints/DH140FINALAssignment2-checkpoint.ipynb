{
 "cells": [
  {
   "cell_type": "markdown",
   "id": "fe4df08c",
   "metadata": {},
   "source": [
    "this is my code AH"
   ]
  },
  {
   "cell_type": "code",
   "execution_count": null,
   "id": "732ff622",
   "metadata": {},
   "outputs": [],
   "source": [
    "print('This is my DH 140 Final Assignment 2 ')"
   ]
  }
 ],
 "metadata": {
  "kernelspec": {
   "display_name": "Python 3 (ipykernel)",
   "language": "python",
   "name": "python3"
  },
  "language_info": {
   "codemirror_mode": {
    "name": "ipython",
    "version": 3
   },
   "file_extension": ".py",
   "mimetype": "text/x-python",
   "name": "python",
   "nbconvert_exporter": "python",
   "pygments_lexer": "ipython3",
   "version": "3.10.8"
  }
 },
 "nbformat": 4,
 "nbformat_minor": 5
}
