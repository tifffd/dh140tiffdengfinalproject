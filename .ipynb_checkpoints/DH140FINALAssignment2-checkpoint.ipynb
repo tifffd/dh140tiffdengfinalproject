{
 "cells": [
  {
   "cell_type": "markdown",
   "id": "fe4df08c",
   "metadata": {},
   "source": [
    "## **DH 140 Final Project Assignment 2**\n"
   ]
  },
  {
   "cell_type": "markdown",
   "id": "2982d66f",
   "metadata": {},
   "source": [
    "\n",
    "***Data Description***\n",
    "\n",
    "I have decided to do my DH 140 final project on data points I will pull from the book, *Lord of the Flies* by William Golding. It is one of my favorite books and is used at an intro to literary analysis for many high school courses. Unfortunately I do not have a data set yet, but I will create one based on the words and compiling similar studies with the ones we did in class about *Romoe and Juliet* and *Macbeth*. I found an article called *Eliciting Empathy with William Golding’s Lord of the Flies* (https://www.diva-portal.org/smash/get/diva2:1462392/FULLTEXT01.pdf). The article talks about what emotions or is empathy evoked from the story. Additionally, they want to find if the story can sustain that empathy and how it is achieved. I think this was an interesting question as I loved *Lord of the Flies* and reading it elicit various emotions in me. It can also be considered a controversal book as it depicts violence the slow savage life styles the boys adapt. Another article that I will use in my analysis is *Tracking a Descent to Savagery with the Wolfram Language: Plotting Sentiment Analysis in Lord of the Flies* (https://blog.wolfram.com/2017/12/07/tracking-a-descent-to-savagery-with-the-wolfram-language-plotting-sentiment-analysis-in-lord-of-the-flies/). In this article, they use computational methods and coding to resaerch the sentimenal analysis throughout the book. I think it is interesting to compare the two difference sides of analzuing the book: literatural and scientific research. It will bring different perspectives on this book and its hidden meanings and theme. That is why I chose this topic to do more researh on. The questions that I am seeking to answer are: How different is the sentimental analysis approach between computer and human? If so, which is more accurate to the themes of the book? \n"
   ]
  },
  {
   "cell_type": "markdown",
   "id": "f61ea7ca",
   "metadata": {},
   "source": [
    "***Information about my data***\n",
    "As my dataset is not created or polished, I will explain the ways that I analyze my data:\n",
    "\n",
    "1.\n",
    "import requests\n",
    "import matplotlib.pyplot as plt\n",
    "import nltk\n",
    "from string import punctuation\n",
    "\n",
    "from nltk.tokenize import word_tokenize\n",
    "from nltk.corpus import stopwords\n",
    "from nltk.stem.porter import PorterStemmer\n",
    "\n",
    "nltk.download('punkt')\n",
    "nltk.download('stopwords') \n",
    "\n",
    "I will use the standard headinsg to have all the imported information to start my analysis\n",
    "\n",
    "2. \n",
    "target_url = \"https://scottlandonline.tripod.com/lotf-ebook-html.htm\"\n",
    "response = requests.get(target_url)\n",
    "r_j_string = response.text\n",
    "r_j_string = r_j_string.split('*** CHAPTER ONE ***')[1]\n",
    "r_j_string = r_j_string.split('*** Notes on Lord of the Flies * ***')[0]\n",
    "\n",
    "This is where I found the full text for *Lord of the Flies*, there will be edits if I can get the text to be .txt format. However, this is the overall idea of how I will get the full text. \n",
    "\n",
    "3. \n",
    "I will tokenizing all the words into strings, making all words lowercase, removing stopwords, and using the Porter stemmer to stem the words. This is for easier manipulate of the data. Before I seperate the words into different smaller groups, then I will perform a group summary statistic on mean, medium, mode, and most importantly the most frequent words.  Then I will code the most frequent words to find the head, tail, and different ways to analysis smaller groups to find the sentimental analysis. \n",
    "\n",
    "For the data visualization graphs I want to create a graph that...\n",
    " - Plot the frequencies of the most common words that appear in the book\n",
    " - Plot the most common negative words and most common positive words in *Lord of the Flies*\n",
    " - Plot the sentimental analysis for each chapter, there are a total of 12 chapter\n",
    " - Plot the network analysis for the charcters connection and interaction with each other\n",
    " \n",
    " \n",
    "4. \n",
    "Additional data visualization graphs I will create ...\n",
    " - Plot the character appearancecs and how often they are mentioned in a line/ bar graph\n",
    " - Plot when each charater dies and if its reflected in the sentimental analysis for each chapter\n",
    " - Plot how often the symoblism of the story occurs (pig head, conch, etc.) and how that can effect the sentiments\n",
    " - Plot line graph with the projected sentimental analysis\n",
    " \n",
    " \n",
    " \n",
    "\n",
    "\n",
    "\n"
   ]
  },
  {
   "cell_type": "code",
   "execution_count": null,
   "id": "1f07bd9d",
   "metadata": {},
   "outputs": [],
   "source": []
  }
 ],
 "metadata": {
  "kernelspec": {
   "display_name": "Python 3 (ipykernel)",
   "language": "python",
   "name": "python3"
  },
  "language_info": {
   "codemirror_mode": {
    "name": "ipython",
    "version": 3
   },
   "file_extension": ".py",
   "mimetype": "text/x-python",
   "name": "python",
   "nbconvert_exporter": "python",
   "pygments_lexer": "ipython3",
   "version": "3.10.8"
  }
 },
 "nbformat": 4,
 "nbformat_minor": 5
}
